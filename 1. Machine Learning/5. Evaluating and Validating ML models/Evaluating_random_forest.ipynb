{
 "cells": [
  {
   "cell_type": "markdown",
   "id": "92bd2464-10bd-4f6e-ac56-4b86b4fd1540",
   "metadata": {},
   "source": [
    "## Introduction\n",
    "In this lab, you will:\n",
    "- Use the California Housing data set included in scikit-learn to predict the median house price based on various attributes\n",
    "- Create a random forest regression model and evaluate its performance\n",
    "- Investigate the feature importances for the model \n",
    "\n",
    "\n",
    "Your goal in this lab is **not** to find the best regressor - it is primarily intended for you to practice interpreting modelling results in the context of a real-world problem.\n"
   ]
  },
  {
   "cell_type": "markdown",
   "id": "dc59c364-9c24-4234-9fd5-ef26f3ef4ba8",
   "metadata": {},
   "source": [
    "Before you start, make sure that all the required libraries are installed. Execute the cell below for the same.\n"
   ]
  },
  {
   "cell_type": "code",
   "execution_count": 1,
   "id": "b98f97ad-88cc-4fa8-94b0-b4da5013ef7d",
   "metadata": {},
   "outputs": [
    {
     "name": "stdout",
     "output_type": "stream",
     "text": [
      "Requirement already satisfied: numpy==2.2.0 in c:\\users\\dangw\\anaconda3\\envs\\ibm_1\\lib\\site-packages (2.2.0)\n",
      "Requirement already satisfied: pandas==2.2.3 in c:\\users\\dangw\\anaconda3\\envs\\ibm_1\\lib\\site-packages (2.2.3)\n",
      "Requirement already satisfied: numpy>=1.26.0 in c:\\users\\dangw\\anaconda3\\envs\\ibm_1\\lib\\site-packages (from pandas==2.2.3) (2.2.0)\n",
      "Requirement already satisfied: python-dateutil>=2.8.2 in c:\\users\\dangw\\anaconda3\\envs\\ibm_1\\lib\\site-packages (from pandas==2.2.3) (2.9.0.post0)\n",
      "Requirement already satisfied: pytz>=2020.1 in c:\\users\\dangw\\anaconda3\\envs\\ibm_1\\lib\\site-packages (from pandas==2.2.3) (2025.2)\n",
      "Requirement already satisfied: tzdata>=2022.7 in c:\\users\\dangw\\anaconda3\\envs\\ibm_1\\lib\\site-packages (from pandas==2.2.3) (2025.2)\n",
      "Requirement already satisfied: six>=1.5 in c:\\users\\dangw\\anaconda3\\envs\\ibm_1\\lib\\site-packages (from python-dateutil>=2.8.2->pandas==2.2.3) (1.17.0)\n",
      "Requirement already satisfied: scikit-learn==1.6.0 in c:\\users\\dangw\\anaconda3\\envs\\ibm_1\\lib\\site-packages (1.6.0)\n",
      "Requirement already satisfied: numpy>=1.19.5 in c:\\users\\dangw\\anaconda3\\envs\\ibm_1\\lib\\site-packages (from scikit-learn==1.6.0) (2.2.0)\n",
      "Requirement already satisfied: scipy>=1.6.0 in c:\\users\\dangw\\anaconda3\\envs\\ibm_1\\lib\\site-packages (from scikit-learn==1.6.0) (1.16.0)\n",
      "Requirement already satisfied: joblib>=1.2.0 in c:\\users\\dangw\\anaconda3\\envs\\ibm_1\\lib\\site-packages (from scikit-learn==1.6.0) (1.5.1)\n",
      "Requirement already satisfied: threadpoolctl>=3.1.0 in c:\\users\\dangw\\anaconda3\\envs\\ibm_1\\lib\\site-packages (from scikit-learn==1.6.0) (3.6.0)\n",
      "Requirement already satisfied: matplotlib==3.9.3 in c:\\users\\dangw\\anaconda3\\envs\\ibm_1\\lib\\site-packages (3.9.3)\n",
      "Requirement already satisfied: contourpy>=1.0.1 in c:\\users\\dangw\\anaconda3\\envs\\ibm_1\\lib\\site-packages (from matplotlib==3.9.3) (1.3.2)\n",
      "Requirement already satisfied: cycler>=0.10 in c:\\users\\dangw\\anaconda3\\envs\\ibm_1\\lib\\site-packages (from matplotlib==3.9.3) (0.12.1)\n",
      "Requirement already satisfied: fonttools>=4.22.0 in c:\\users\\dangw\\anaconda3\\envs\\ibm_1\\lib\\site-packages (from matplotlib==3.9.3) (4.58.4)\n",
      "Requirement already satisfied: kiwisolver>=1.3.1 in c:\\users\\dangw\\anaconda3\\envs\\ibm_1\\lib\\site-packages (from matplotlib==3.9.3) (1.4.8)\n",
      "Requirement already satisfied: numpy>=1.23 in c:\\users\\dangw\\anaconda3\\envs\\ibm_1\\lib\\site-packages (from matplotlib==3.9.3) (2.2.0)\n",
      "Requirement already satisfied: packaging>=20.0 in c:\\users\\dangw\\anaconda3\\envs\\ibm_1\\lib\\site-packages (from matplotlib==3.9.3) (25.0)\n",
      "Requirement already satisfied: pillow>=8 in c:\\users\\dangw\\anaconda3\\envs\\ibm_1\\lib\\site-packages (from matplotlib==3.9.3) (11.2.1)\n",
      "Requirement already satisfied: pyparsing>=2.3.1 in c:\\users\\dangw\\anaconda3\\envs\\ibm_1\\lib\\site-packages (from matplotlib==3.9.3) (3.2.3)\n",
      "Requirement already satisfied: python-dateutil>=2.7 in c:\\users\\dangw\\anaconda3\\envs\\ibm_1\\lib\\site-packages (from matplotlib==3.9.3) (2.9.0.post0)\n",
      "Requirement already satisfied: six>=1.5 in c:\\users\\dangw\\anaconda3\\envs\\ibm_1\\lib\\site-packages (from python-dateutil>=2.7->matplotlib==3.9.3) (1.17.0)\n",
      "Collecting scipy==1.14.1\n",
      "  Downloading scipy-1.14.1-cp313-cp313-win_amd64.whl.metadata (60 kB)\n",
      "Requirement already satisfied: numpy<2.3,>=1.23.5 in c:\\users\\dangw\\anaconda3\\envs\\ibm_1\\lib\\site-packages (from scipy==1.14.1) (2.2.0)\n",
      "Downloading scipy-1.14.1-cp313-cp313-win_amd64.whl (44.5 MB)\n",
      "   ---------------------------------------- 0.0/44.5 MB ? eta -:--:--\n",
      "   ---------------------------------------- 0.3/44.5 MB ? eta -:--:--\n",
      "    --------------------------------------- 0.8/44.5 MB 2.2 MB/s eta 0:00:21\n",
      "   - -------------------------------------- 1.3/44.5 MB 2.3 MB/s eta 0:00:19\n",
      "   - -------------------------------------- 1.8/44.5 MB 2.3 MB/s eta 0:00:19\n",
      "   - -------------------------------------- 2.1/44.5 MB 2.3 MB/s eta 0:00:19\n",
      "   -- ------------------------------------- 2.6/44.5 MB 2.2 MB/s eta 0:00:20\n",
      "   -- ------------------------------------- 3.1/44.5 MB 2.2 MB/s eta 0:00:19\n",
      "   --- ------------------------------------ 3.7/44.5 MB 2.3 MB/s eta 0:00:18\n",
      "   --- ------------------------------------ 4.2/44.5 MB 2.3 MB/s eta 0:00:18\n",
      "   ---- ----------------------------------- 4.7/44.5 MB 2.3 MB/s eta 0:00:18\n",
      "   ---- ----------------------------------- 5.2/44.5 MB 2.4 MB/s eta 0:00:17\n",
      "   ----- ---------------------------------- 5.8/44.5 MB 2.4 MB/s eta 0:00:17\n",
      "   ----- ---------------------------------- 6.3/44.5 MB 2.4 MB/s eta 0:00:17\n",
      "   ------ --------------------------------- 6.8/44.5 MB 2.4 MB/s eta 0:00:16\n",
      "   ------ --------------------------------- 7.3/44.5 MB 2.4 MB/s eta 0:00:16\n",
      "   ------- -------------------------------- 7.9/44.5 MB 2.4 MB/s eta 0:00:16\n",
      "   ------- -------------------------------- 8.4/44.5 MB 2.4 MB/s eta 0:00:15\n",
      "   -------- ------------------------------- 8.9/44.5 MB 2.4 MB/s eta 0:00:15\n",
      "   -------- ------------------------------- 9.4/44.5 MB 2.4 MB/s eta 0:00:15\n",
      "   -------- ------------------------------- 10.0/44.5 MB 2.5 MB/s eta 0:00:15\n",
      "   --------- ------------------------------ 10.5/44.5 MB 2.5 MB/s eta 0:00:14\n",
      "   --------- ------------------------------ 10.7/44.5 MB 2.4 MB/s eta 0:00:14\n",
      "   ---------- ----------------------------- 11.3/44.5 MB 2.4 MB/s eta 0:00:14\n",
      "   ---------- ----------------------------- 11.8/44.5 MB 2.4 MB/s eta 0:00:14\n",
      "   ----------- ---------------------------- 12.3/44.5 MB 2.4 MB/s eta 0:00:14\n",
      "   ----------- ---------------------------- 12.8/44.5 MB 2.4 MB/s eta 0:00:14\n",
      "   ------------ --------------------------- 13.4/44.5 MB 2.4 MB/s eta 0:00:13\n",
      "   ------------ --------------------------- 13.9/44.5 MB 2.4 MB/s eta 0:00:13\n",
      "   ------------ --------------------------- 14.4/44.5 MB 2.4 MB/s eta 0:00:13\n",
      "   ------------- -------------------------- 14.9/44.5 MB 2.4 MB/s eta 0:00:13\n",
      "   ------------- -------------------------- 15.5/44.5 MB 2.4 MB/s eta 0:00:12\n",
      "   -------------- ------------------------- 16.0/44.5 MB 2.4 MB/s eta 0:00:12\n",
      "   -------------- ------------------------- 16.3/44.5 MB 2.4 MB/s eta 0:00:12\n",
      "   --------------- ------------------------ 16.8/44.5 MB 2.4 MB/s eta 0:00:12\n",
      "   --------------- ------------------------ 17.3/44.5 MB 2.4 MB/s eta 0:00:12\n",
      "   ---------------- ----------------------- 17.8/44.5 MB 2.4 MB/s eta 0:00:12\n",
      "   ---------------- ----------------------- 18.1/44.5 MB 2.4 MB/s eta 0:00:12\n",
      "   ---------------- ----------------------- 18.6/44.5 MB 2.4 MB/s eta 0:00:11\n",
      "   ----------------- ---------------------- 19.1/44.5 MB 2.4 MB/s eta 0:00:11\n",
      "   ----------------- ---------------------- 19.7/44.5 MB 2.4 MB/s eta 0:00:11\n",
      "   ----------------- ---------------------- 19.9/44.5 MB 2.4 MB/s eta 0:00:11\n",
      "   ------------------ --------------------- 20.4/44.5 MB 2.4 MB/s eta 0:00:11\n",
      "   ------------------ --------------------- 21.0/44.5 MB 2.4 MB/s eta 0:00:10\n",
      "   ------------------- -------------------- 21.5/44.5 MB 2.4 MB/s eta 0:00:10\n",
      "   ------------------- -------------------- 22.0/44.5 MB 2.4 MB/s eta 0:00:10\n",
      "   -------------------- ------------------- 22.5/44.5 MB 2.4 MB/s eta 0:00:10\n",
      "   -------------------- ------------------- 23.1/44.5 MB 2.4 MB/s eta 0:00:10\n",
      "   --------------------- ------------------ 23.6/44.5 MB 2.4 MB/s eta 0:00:09\n",
      "   --------------------- ------------------ 24.1/44.5 MB 2.4 MB/s eta 0:00:09\n",
      "   --------------------- ------------------ 24.1/44.5 MB 2.4 MB/s eta 0:00:09\n",
      "   ---------------------- ----------------- 24.6/44.5 MB 2.4 MB/s eta 0:00:09\n",
      "   ---------------------- ----------------- 25.2/44.5 MB 2.4 MB/s eta 0:00:09\n",
      "   ----------------------- ---------------- 25.7/44.5 MB 2.4 MB/s eta 0:00:08\n",
      "   ----------------------- ---------------- 26.5/44.5 MB 2.4 MB/s eta 0:00:08\n",
      "   ------------------------ --------------- 27.0/44.5 MB 2.4 MB/s eta 0:00:08\n",
      "   ------------------------ --------------- 27.3/44.5 MB 2.4 MB/s eta 0:00:08\n",
      "   ------------------------- -------------- 28.0/44.5 MB 2.4 MB/s eta 0:00:07\n",
      "   ------------------------- -------------- 28.6/44.5 MB 2.4 MB/s eta 0:00:07\n",
      "   -------------------------- ------------- 29.1/44.5 MB 2.4 MB/s eta 0:00:07\n",
      "   -------------------------- ------------- 29.4/44.5 MB 2.4 MB/s eta 0:00:07\n",
      "   --------------------------- ------------ 30.1/44.5 MB 2.4 MB/s eta 0:00:06\n",
      "   --------------------------- ------------ 30.7/44.5 MB 2.4 MB/s eta 0:00:06\n",
      "   ---------------------------- ----------- 31.2/44.5 MB 2.4 MB/s eta 0:00:06\n",
      "   ---------------------------- ----------- 31.7/44.5 MB 2.4 MB/s eta 0:00:06\n",
      "   ---------------------------- ----------- 32.0/44.5 MB 2.4 MB/s eta 0:00:06\n",
      "   ----------------------------- ---------- 32.5/44.5 MB 2.4 MB/s eta 0:00:05\n",
      "   ----------------------------- ---------- 32.8/44.5 MB 2.4 MB/s eta 0:00:05\n",
      "   ------------------------------ --------- 33.6/44.5 MB 2.4 MB/s eta 0:00:05\n",
      "   ------------------------------ --------- 34.3/44.5 MB 2.4 MB/s eta 0:00:05\n",
      "   ------------------------------- -------- 34.6/44.5 MB 2.4 MB/s eta 0:00:05\n",
      "   ------------------------------- -------- 34.6/44.5 MB 2.4 MB/s eta 0:00:05\n",
      "   ------------------------------- -------- 34.9/44.5 MB 2.3 MB/s eta 0:00:05\n",
      "   -------------------------------- ------- 35.7/44.5 MB 2.4 MB/s eta 0:00:04\n",
      "   -------------------------------- ------- 36.2/44.5 MB 2.4 MB/s eta 0:00:04\n",
      "   --------------------------------- ------ 37.0/44.5 MB 2.4 MB/s eta 0:00:04\n",
      "   --------------------------------- ------ 37.5/44.5 MB 2.4 MB/s eta 0:00:03\n",
      "   ---------------------------------- ----- 38.0/44.5 MB 2.4 MB/s eta 0:00:03\n",
      "   ---------------------------------- ----- 38.5/44.5 MB 2.4 MB/s eta 0:00:03\n",
      "   ----------------------------------- ---- 39.3/44.5 MB 2.4 MB/s eta 0:00:03\n",
      "   ----------------------------------- ---- 39.8/44.5 MB 2.4 MB/s eta 0:00:02\n",
      "   ------------------------------------ --- 40.6/44.5 MB 2.4 MB/s eta 0:00:02\n",
      "   ------------------------------------- -- 41.2/44.5 MB 2.4 MB/s eta 0:00:02\n",
      "   ------------------------------------- -- 41.7/44.5 MB 2.4 MB/s eta 0:00:02\n",
      "   ------------------------------------- -- 42.2/44.5 MB 2.4 MB/s eta 0:00:01\n",
      "   -------------------------------------- - 43.0/44.5 MB 2.5 MB/s eta 0:00:01\n",
      "   ---------------------------------------  43.5/44.5 MB 2.5 MB/s eta 0:00:01\n",
      "   ---------------------------------------  44.0/44.5 MB 2.5 MB/s eta 0:00:01\n",
      "   ---------------------------------------  44.3/44.5 MB 2.5 MB/s eta 0:00:01\n",
      "   ---------------------------------------- 44.5/44.5 MB 2.4 MB/s eta 0:00:00\n",
      "Installing collected packages: scipy\n",
      "  Attempting uninstall: scipy\n",
      "    Found existing installation: scipy 1.16.0\n",
      "    Uninstalling scipy-1.16.0:\n",
      "      Successfully uninstalled scipy-1.16.0\n",
      "Successfully installed scipy-1.14.1\n"
     ]
    },
    {
     "name": "stderr",
     "output_type": "stream",
     "text": [
      "  WARNING: Failed to remove contents in a temporary directory 'C:\\Users\\dangw\\anaconda3\\envs\\ibm_1\\Lib\\site-packages\\~cipy.libs'.\n",
      "  You can safely remove it manually.\n",
      "  WARNING: Failed to remove contents in a temporary directory 'C:\\Users\\dangw\\anaconda3\\envs\\ibm_1\\Lib\\site-packages\\~cipy'.\n",
      "  You can safely remove it manually.\n"
     ]
    }
   ],
   "source": [
    "!pip install numpy==2.2.0\n",
    "!pip install pandas==2.2.3\n",
    "!pip install scikit-learn==1.6.0\n",
    "!pip install matplotlib==3.9.3\n",
    "!pip install scipy==1.14.1"
   ]
  },
  {
   "cell_type": "markdown",
   "id": "acd26cde-b063-4e56-a7f0-1566f241ab11",
   "metadata": {},
   "source": [
    "## Import the required libraries\n"
   ]
  },
  {
   "cell_type": "code",
   "execution_count": 2,
   "id": "56ee4288-ed56-4b76-947c-1c869407b23b",
   "metadata": {},
   "outputs": [],
   "source": [
    "import numpy as np\n",
    "import pandas as pd\n",
    "import matplotlib.pyplot as plt\n",
    "from sklearn.datasets import fetch_california_housing\n",
    "from sklearn.model_selection import train_test_split\n",
    "from sklearn.ensemble import RandomForestRegressor\n",
    "from sklearn.metrics import mean_squared_error, root_mean_squared_error, mean_absolute_error, r2_score\n",
    "from scipy.stats import skew"
   ]
  },
  {
   "cell_type": "markdown",
   "id": "15e5e7de-854b-4c64-8c4e-9f4c3d0a0e4d",
   "metadata": {},
   "source": [
    "### Load the California Housing data set\n"
   ]
  },
  {
   "cell_type": "code",
   "execution_count": 3,
   "id": "b8c476b5-871b-4963-bd1c-f9a5aeaffcb5",
   "metadata": {},
   "outputs": [],
   "source": [
    "# Load the dataset\n",
    "data = fetch_california_housing()\n",
    "X, y = data.data, data.target"
   ]
  },
  {
   "cell_type": "markdown",
   "id": "325e9a87-cdf6-499a-9a4a-63fdff148416",
   "metadata": {},
   "source": [
    "### Print the description of the California Housing data set\n"
   ]
  },
  {
   "cell_type": "code",
   "execution_count": 4,
   "id": "c004f814-2927-4fd1-ab42-092c7e018b38",
   "metadata": {},
   "outputs": [
    {
     "name": "stdout",
     "output_type": "stream",
     "text": [
      ".. _california_housing_dataset:\n",
      "\n",
      "California Housing dataset\n",
      "--------------------------\n",
      "\n",
      "**Data Set Characteristics:**\n",
      "\n",
      ":Number of Instances: 20640\n",
      "\n",
      ":Number of Attributes: 8 numeric, predictive attributes and the target\n",
      "\n",
      ":Attribute Information:\n",
      "    - MedInc        median income in block group\n",
      "    - HouseAge      median house age in block group\n",
      "    - AveRooms      average number of rooms per household\n",
      "    - AveBedrms     average number of bedrooms per household\n",
      "    - Population    block group population\n",
      "    - AveOccup      average number of household members\n",
      "    - Latitude      block group latitude\n",
      "    - Longitude     block group longitude\n",
      "\n",
      ":Missing Attribute Values: None\n",
      "\n",
      "This dataset was obtained from the StatLib repository.\n",
      "https://www.dcc.fc.up.pt/~ltorgo/Regression/cal_housing.html\n",
      "\n",
      "The target variable is the median house value for California districts,\n",
      "expressed in hundreds of thousands of dollars ($100,000).\n",
      "\n",
      "This dataset was derived from the 1990 U.S. census, using one row per census\n",
      "block group. A block group is the smallest geographical unit for which the U.S.\n",
      "Census Bureau publishes sample data (a block group typically has a population\n",
      "of 600 to 3,000 people).\n",
      "\n",
      "A household is a group of people residing within a home. Since the average\n",
      "number of rooms and bedrooms in this dataset are provided per household, these\n",
      "columns may take surprisingly large values for block groups with few households\n",
      "and many empty houses, such as vacation resorts.\n",
      "\n",
      "It can be downloaded/loaded using the\n",
      ":func:`sklearn.datasets.fetch_california_housing` function.\n",
      "\n",
      ".. rubric:: References\n",
      "\n",
      "- Pace, R. Kelley and Ronald Barry, Sparse Spatial Autoregressions,\n",
      "  Statistics and Probability Letters, 33 (1997) 291-297\n",
      "\n"
     ]
    }
   ],
   "source": [
    "print(data.DESCR)"
   ]
  },
  {
   "cell_type": "markdown",
   "id": "e7b3a9a3-64ef-4ae6-a2ed-3ae3eb856193",
   "metadata": {},
   "source": [
    "### Exercise 1. Split the data into training and testing sets\n",
    "Reserve 20% of the data for evaluation\n"
   ]
  },
  {
   "cell_type": "code",
   "execution_count": 7,
   "id": "b8d8d5ba-02dc-4815-8f5f-0aeeb7ce9e5e",
   "metadata": {},
   "outputs": [],
   "source": [
    "# Enter your code here\n",
    "X_train, X_test, y_train, y_test = train_test_split(X, y,test_size=0.2, random_state=42)"
   ]
  },
  {
   "cell_type": "markdown",
   "id": "8c64de6d-3637-417f-a1b9-d8734c7562fb",
   "metadata": {},
   "source": [
    "<details><summary>Click here for the solution</summary>\n",
    "\n",
    "```python\n",
    "# Split the dataset into training and test sets\n",
    "X_train, X_test, y_train, y_test = train_test_split(X, y, test_size=0.2, random_state=42)\n",
    "\n",
    "```\n",
    "\n",
    "</details>\n"
   ]
  },
  {
   "cell_type": "markdown",
   "id": "50e2eecf-b2d0-46dc-a2ef-3fb1ed6a7c75",
   "metadata": {},
   "source": [
    "## Explore the training data\n"
   ]
  },
  {
   "cell_type": "code",
   "execution_count": 8,
   "id": "d19abd24-47e8-4948-8525-770d7a321ff8",
   "metadata": {},
   "outputs": [
    {
     "data": {
      "text/html": [
       "<div>\n",
       "<style scoped>\n",
       "    .dataframe tbody tr th:only-of-type {\n",
       "        vertical-align: middle;\n",
       "    }\n",
       "\n",
       "    .dataframe tbody tr th {\n",
       "        vertical-align: top;\n",
       "    }\n",
       "\n",
       "    .dataframe thead th {\n",
       "        text-align: right;\n",
       "    }\n",
       "</style>\n",
       "<table border=\"1\" class=\"dataframe\">\n",
       "  <thead>\n",
       "    <tr style=\"text-align: right;\">\n",
       "      <th></th>\n",
       "      <th>MedInc</th>\n",
       "      <th>HouseAge</th>\n",
       "      <th>AveRooms</th>\n",
       "      <th>AveBedrms</th>\n",
       "      <th>Population</th>\n",
       "      <th>AveOccup</th>\n",
       "      <th>Latitude</th>\n",
       "      <th>Longitude</th>\n",
       "      <th>MedHouseVal</th>\n",
       "    </tr>\n",
       "  </thead>\n",
       "  <tbody>\n",
       "    <tr>\n",
       "      <th>count</th>\n",
       "      <td>16512.000000</td>\n",
       "      <td>16512.000000</td>\n",
       "      <td>16512.000000</td>\n",
       "      <td>16512.000000</td>\n",
       "      <td>16512.000000</td>\n",
       "      <td>16512.000000</td>\n",
       "      <td>16512.000000</td>\n",
       "      <td>16512.000000</td>\n",
       "      <td>16512.000000</td>\n",
       "    </tr>\n",
       "    <tr>\n",
       "      <th>mean</th>\n",
       "      <td>3.880754</td>\n",
       "      <td>28.608285</td>\n",
       "      <td>5.435235</td>\n",
       "      <td>1.096685</td>\n",
       "      <td>1426.453004</td>\n",
       "      <td>3.096961</td>\n",
       "      <td>35.643149</td>\n",
       "      <td>-119.582290</td>\n",
       "      <td>2.071947</td>\n",
       "    </tr>\n",
       "    <tr>\n",
       "      <th>std</th>\n",
       "      <td>1.904294</td>\n",
       "      <td>12.602499</td>\n",
       "      <td>2.387375</td>\n",
       "      <td>0.433215</td>\n",
       "      <td>1137.056380</td>\n",
       "      <td>11.578744</td>\n",
       "      <td>2.136665</td>\n",
       "      <td>2.005654</td>\n",
       "      <td>1.156226</td>\n",
       "    </tr>\n",
       "    <tr>\n",
       "      <th>min</th>\n",
       "      <td>0.499900</td>\n",
       "      <td>1.000000</td>\n",
       "      <td>0.888889</td>\n",
       "      <td>0.333333</td>\n",
       "      <td>3.000000</td>\n",
       "      <td>0.692308</td>\n",
       "      <td>32.550000</td>\n",
       "      <td>-124.350000</td>\n",
       "      <td>0.149990</td>\n",
       "    </tr>\n",
       "    <tr>\n",
       "      <th>25%</th>\n",
       "      <td>2.566700</td>\n",
       "      <td>18.000000</td>\n",
       "      <td>4.452055</td>\n",
       "      <td>1.006508</td>\n",
       "      <td>789.000000</td>\n",
       "      <td>2.428799</td>\n",
       "      <td>33.930000</td>\n",
       "      <td>-121.810000</td>\n",
       "      <td>1.198000</td>\n",
       "    </tr>\n",
       "    <tr>\n",
       "      <th>50%</th>\n",
       "      <td>3.545800</td>\n",
       "      <td>29.000000</td>\n",
       "      <td>5.235874</td>\n",
       "      <td>1.049286</td>\n",
       "      <td>1167.000000</td>\n",
       "      <td>2.817240</td>\n",
       "      <td>34.260000</td>\n",
       "      <td>-118.510000</td>\n",
       "      <td>1.798500</td>\n",
       "    </tr>\n",
       "    <tr>\n",
       "      <th>75%</th>\n",
       "      <td>4.773175</td>\n",
       "      <td>37.000000</td>\n",
       "      <td>6.061037</td>\n",
       "      <td>1.100348</td>\n",
       "      <td>1726.000000</td>\n",
       "      <td>3.280000</td>\n",
       "      <td>37.720000</td>\n",
       "      <td>-118.010000</td>\n",
       "      <td>2.651250</td>\n",
       "    </tr>\n",
       "    <tr>\n",
       "      <th>max</th>\n",
       "      <td>15.000100</td>\n",
       "      <td>52.000000</td>\n",
       "      <td>141.909091</td>\n",
       "      <td>25.636364</td>\n",
       "      <td>35682.000000</td>\n",
       "      <td>1243.333333</td>\n",
       "      <td>41.950000</td>\n",
       "      <td>-114.310000</td>\n",
       "      <td>5.000010</td>\n",
       "    </tr>\n",
       "  </tbody>\n",
       "</table>\n",
       "</div>"
      ],
      "text/plain": [
       "             MedInc      HouseAge      AveRooms     AveBedrms    Population  \\\n",
       "count  16512.000000  16512.000000  16512.000000  16512.000000  16512.000000   \n",
       "mean       3.880754     28.608285      5.435235      1.096685   1426.453004   \n",
       "std        1.904294     12.602499      2.387375      0.433215   1137.056380   \n",
       "min        0.499900      1.000000      0.888889      0.333333      3.000000   \n",
       "25%        2.566700     18.000000      4.452055      1.006508    789.000000   \n",
       "50%        3.545800     29.000000      5.235874      1.049286   1167.000000   \n",
       "75%        4.773175     37.000000      6.061037      1.100348   1726.000000   \n",
       "max       15.000100     52.000000    141.909091     25.636364  35682.000000   \n",
       "\n",
       "           AveOccup      Latitude     Longitude   MedHouseVal  \n",
       "count  16512.000000  16512.000000  16512.000000  16512.000000  \n",
       "mean       3.096961     35.643149   -119.582290      2.071947  \n",
       "std       11.578744      2.136665      2.005654      1.156226  \n",
       "min        0.692308     32.550000   -124.350000      0.149990  \n",
       "25%        2.428799     33.930000   -121.810000      1.198000  \n",
       "50%        2.817240     34.260000   -118.510000      1.798500  \n",
       "75%        3.280000     37.720000   -118.010000      2.651250  \n",
       "max     1243.333333     41.950000   -114.310000      5.000010  "
      ]
     },
     "execution_count": 8,
     "metadata": {},
     "output_type": "execute_result"
    }
   ],
   "source": [
    "eda = pd.DataFrame(data=X_train)\n",
    "eda.columns = data.feature_names\n",
    "eda['MedHouseVal'] = y_train\n",
    "eda.describe()"
   ]
  },
  {
   "cell_type": "markdown",
   "id": "5e7ab7c1-43ae-4a2c-bd50-389fcfc5e869",
   "metadata": {},
   "source": [
    "### Exercise 2. What range are most of the median house prices valued at?\n"
   ]
  },
  {
   "cell_type": "code",
   "execution_count": null,
   "id": "cead4079-efe2-4c92-a640-064264c87fa4",
   "metadata": {},
   "outputs": [],
   "source": [
    "#### Please enter your descriptive answer here and change the cell type to \"Markdown\" for formatting.\n"
   ]
  },
  {
   "cell_type": "markdown",
   "id": "8078ccf9-d984-4b39-ad68-d101adb9f68a",
   "metadata": {},
   "source": [
    "<details><summary>Click here for the solution</summary>\n",
    "Considering the 25th to the 75th percentile range, most of the median house prices fall within \\$119,300 and \\$265,000.\n",
    "\n",
    "</details>\n"
   ]
  },
  {
   "cell_type": "markdown",
   "id": "213baa11-f826-4310-80a8-519ac73c5627",
   "metadata": {},
   "source": [
    "### How are the median house prices distributed?\n"
   ]
  },
  {
   "cell_type": "code",
   "execution_count": 11,
   "id": "d5f00851-faad-4309-871a-f4dd9c5ebb7a",
   "metadata": {},
   "outputs": [
    {
     "data": {
      "text/plain": [
       "Text(0, 0.5, 'Frequency')"
      ]
     },
     "execution_count": 11,
     "metadata": {},
     "output_type": "execute_result"
    },
    {
     "data": {
      "image/png": "[encoded data removed]",
      "text/plain": [
       "<Figure size 640x480 with 1 Axes>"
      ]
     },
     "metadata": {},
     "output_type": "display_data"
    }
   ],
   "source": [
    "# Plot the distribution\n",
    "plt.hist(1e5*y_train, bins=30, color='lightblue', edgecolor='black')\n",
    "plt.title(f'Median House Value Distribution\\nSkewness: {skew(y_train):.2f}')\n",
    "plt.xlabel('Median House Value')\n",
    "plt.ylabel('Frequency')"
   ]
  },
  {
   "cell_type": "markdown",
   "id": "0161b7aa-5770-449c-822f-560bda5e7e69",
   "metadata": {},
   "source": [
    "Evidently the distribution is skewed and there are quite a few clipped values at around $500,000. \n"
   ]
  },
  {
   "cell_type": "markdown",
   "id": "5f3e4dcc-b088-4a2b-a5e8-953f29bfd8a6",
   "metadata": {},
   "source": [
    "### Model fitting and prediction\n",
    "Let's fit a random forest regression model to the data and use it to make median house price predicions.\n",
    "Use the default parameters, which includes using 100 base estimators, or regression trees.\n"
   ]
  },
  {
   "cell_type": "code",
   "execution_count": 12,
   "id": "25c78b89-bece-4eb8-8d30-71c858b7c810",
   "metadata": {},
   "outputs": [],
   "source": [
    "# Initialize and fit the Random Forest Regressor\n",
    "rf_regressor = RandomForestRegressor(n_estimators=100, random_state=42)\n",
    "rf_regressor.fit(X_train, y_train)\n",
    "\n",
    "# Predict on test set\n",
    "y_pred_test = rf_regressor.predict(X_test)"
   ]
  },
  {
   "cell_type": "markdown",
   "id": "34b643b2-9c0e-4541-9458-1fb048fc008e",
   "metadata": {},
   "source": [
    "### Estimate out-of-sample MAE, MSE, RMSE, and R²\n"
   ]
  },
  {
   "cell_type": "code",
   "execution_count": 13,
   "id": "55af651f-041a-407a-97e7-bbce11f67e99",
   "metadata": {},
   "outputs": [
    {
     "name": "stdout",
     "output_type": "stream",
     "text": [
      "Mean Absolute Error (MAE): 0.3276\n",
      "Mean Squared Error (MSE): 0.2556\n",
      "Root Mean Squared Error (RMSE): 0.5055\n",
      "R² Score: 0.8050\n"
     ]
    }
   ],
   "source": [
    "mae = mean_absolute_error(y_test, y_pred_test)\n",
    "mse = mean_squared_error(y_test, y_pred_test)\n",
    "rmse = root_mean_squared_error(y_test, y_pred_test)\n",
    "r2 = r2_score(y_test, y_pred_test)\n",
    "print(f\"Mean Absolute Error (MAE): {mae:.4f}\")\n",
    "print(f\"Mean Squared Error (MSE): {mse:.4f}\")\n",
    "print(f\"Root Mean Squared Error (RMSE): {rmse:.4f}\")\n",
    "print(f\"R² Score: {r2:.4f}\")"
   ]
  },
  {
   "cell_type": "markdown",
   "id": "db701dff-9673-45a6-891b-c1114bf5e1cf",
   "metadata": {},
   "source": [
    "### Exercise 3. What do these statistics mean to you?\n",
    "How comfortable could you be with stopping here and communicating the results to the C-suite?\n"
   ]
  },
  {
   "cell_type": "code",
   "execution_count": null,
   "id": "07926da9-fee8-4d40-bd10-cfc554b53574",
   "metadata": {},
   "outputs": [],
   "source": [
    "#### Please enter your descriptive answer here and change the cell type to \"Markdown\" for formatting.\n"
   ]
  },
  {
   "cell_type": "markdown",
   "id": "7c26a39a-d8f3-4e0c-878d-c4877caae23f",
   "metadata": {},
   "source": [
    "<details><summary>Click here for the solution</summary>\n",
    "<p>The mean absolute error is $33,220.</p>\n",
    "\n",
    "<p>So, on average, predicted median house prices are off by \\$33k.</p>\n",
    "Mean squared error is less intuitive to interpret, but is usually what is being minimized by the model fit. \n",
    "\n",
    "On the other hand, taking the square root of MSE yields a dollar value, here RMSE = \\$50,630.\n",
    "\n",
    "An R-squared score of 0.80 is not considered very high. It means the model explains about %80 of the variance in median house prices, although this interpretation can be misleading for compex data with nonlinear relationships, skewed values, and outliers. R-squard can still be useful for comparing models though.\n",
    "\n",
    "These statistics alone don't explain any details about the performance of the model. \n",
    "For example, where did the model do well or poorly? \n",
    "\n",
    "We aren't done yet!</details>\n",
    "\n",
    "\n"
   ]
  },
  {
   "cell_type": "markdown",
   "id": "4b522d0f-d3cc-4557-92e0-13903b1e761d",
   "metadata": {},
   "source": [
    "### Plot Actual vs Predicted values\n"
   ]
  },
  {
   "cell_type": "code",
   "execution_count": 18,
   "id": "d889c85a-0e08-4e1f-a8f2-f4f1ffb776ff",
   "metadata": {},
   "outputs": [
    {
     "data": {
      "image/png": "[encoded data removed]",
      "text/plain": [
       "<Figure size 640x480 with 1 Axes>"
      ]
     },
     "metadata": {},
     "output_type": "display_data"
    }
   ],
   "source": [
    "plt.scatter(y_test, y_pred_test, alpha=0.5, color=\"blue\")\n",
    "plt.plot([y_test.min(), y_test.max()], [y_test.min(), y_test.max()], 'k--', lw=2)\n",
    "plt.xlabel(\"Actual Values\")\n",
    "plt.ylabel(\"Predicted Values\")\n",
    "plt.title(\"Random Forest Regression - Actual vs Predicted\")\n",
    "plt.show()"
   ]
  },
  {
   "cell_type": "markdown",
   "id": "09a91f75-c55f-4dde-9561-c5a55d86acc0",
   "metadata": {},
   "source": [
    "### Exercise 4. Plot the histogram of the residual errors (dollars)\n",
    "Also, print the mean and standard deviation of the residuals.\n",
    "Check for any patterns.\n"
   ]
  },
  {
   "cell_type": "code",
   "execution_count": 24,
   "id": "03744906-d6e2-4a3f-83b5-7e0f7b1d7177",
   "metadata": {},
   "outputs": [
    {
     "name": "stdout",
     "output_type": "stream",
     "text": [
      "Skewness of Residuals: 0.80\n",
      "Mean of Residuals: -0.01\n",
      "Standard Deviation of Residuals: 0.51\n"
     ]
    },
    {
     "data": {
      "image/png": "[encoded data removed]",
      "text/plain": [
       "<Figure size 640x480 with 1 Axes>"
      ]
     },
     "metadata": {},
     "output_type": "display_data"
    }
   ],
   "source": [
    "# Enter your code here\n",
    "residuals = (y_test - y_pred_test)\n",
    "plt.hist(residuals, bins=30, color='lightblue', edgecolor='black')\n",
    "plt.title('Residuals Distribution')\n",
    "print(f\"Skewness of Residuals: {skew(residuals):.2f}\")\n",
    "print(f'Mean of Residuals: {np.mean(residuals):.2f}')\n",
    "print(f'Standard Deviation of Residuals: {np.std(residuals):.2f}')"
   ]
  },
  {
   "cell_type": "markdown",
   "id": "885fbe40-59be-4d0d-801b-0eacf92e0bb1",
   "metadata": {},
   "source": [
    "<details><summary>Click here for the solution</summary>\n",
    "    \n",
    "```python\n",
    "    \n",
    "# Calculate the residual errors\n",
    "residuals = 1e5*(y_test - y_pred_test)\n",
    "\n",
    "# Plot the histogram of the residuals\n",
    "plt.hist(residuals, bins=30, color='lightblue', edgecolor='black')\n",
    "plt.title(f'Median House Value Prediction Residuals')\n",
    "plt.xlabel('Median House Value Prediction Error ($)')\n",
    "plt.ylabel('Frequency')\n",
    "print('Average error = ' + str(int(np.mean(residuals))))\n",
    "print('Standard deviation of error = ' + str(int(np.std(residuals))))\n",
    "```\n"
   ]
  },
  {
   "cell_type": "markdown",
   "id": "6445d263-e45d-42f7-a5dc-e80d6c4d92e7",
   "metadata": {},
   "source": [
    "The residuals are normally distributed with a very small average error and a standard deviation of about \\$50,000.\n"
   ]
  },
  {
   "cell_type": "markdown",
   "id": "3e9369f8-54a1-4f11-8515-21b95041872e",
   "metadata": {},
   "source": [
    "### Exercise 5. Plot the model residual errors by median house value.\n",
    "Sort the residuals by actual median house value before plotting the residuals.\n",
    "\n",
    "Check for any patterns.\n"
   ]
  },
  {
   "cell_type": "code",
   "execution_count": 25,
   "id": "c90f9557-a960-4c95-bcb1-11959a965779",
   "metadata": {},
   "outputs": [
    {
     "ename": "KeyError",
     "evalue": "'MedHouseVal'",
     "output_type": "error",
     "traceback": [
      "\u001b[31m---------------------------------------------------------------------------\u001b[39m",
      "\u001b[31mKeyError\u001b[39m                                  Traceback (most recent call last)",
      "\u001b[32m~\\AppData\\Local\\Temp\\ipykernel_26832\\2753128956.py\u001b[39m in \u001b[36m?\u001b[39m\u001b[34m()\u001b[39m\n\u001b[32m      6\u001b[39m     \u001b[33m'Residuals'\u001b[39m: residuals\n\u001b[32m      7\u001b[39m })\n\u001b[32m      8\u001b[39m \n\u001b[32m      9\u001b[39m \u001b[38;5;66;03m# Sort the DataFrame by the actual target values\u001b[39;00m\n\u001b[32m---> \u001b[39m\u001b[32m10\u001b[39m residuals_df = residuals_df.sort_values(by=\u001b[33m'MedHouseVal'\u001b[39m, ascending=\u001b[38;5;28;01mTrue\u001b[39;00m)\n\u001b[32m     11\u001b[39m \n\u001b[32m     12\u001b[39m \u001b[38;5;66;03m# Plot the residuals\u001b[39;00m\n\u001b[32m     13\u001b[39m plt.scatter(residuals_df[\u001b[33m'Actual'\u001b[39m], residuals_df[\u001b[33m'Residuals'\u001b[39m] , marker=\u001b[33m'o'\u001b[39m, alpha=\u001b[32m0.4\u001b[39m,ec=\u001b[33m'k'\u001b[39m)\n",
      "\u001b[32mc:\\Users\\dangw\\anaconda3\\envs\\ibm_1\\Lib\\site-packages\\pandas\\core\\frame.py\u001b[39m in \u001b[36m?\u001b[39m\u001b[34m(self, by, axis, ascending, inplace, kind, na_position, ignore_index, key)\u001b[39m\n\u001b[32m   7185\u001b[39m             )\n\u001b[32m   7186\u001b[39m         \u001b[38;5;28;01melif\u001b[39;00m len(by):\n\u001b[32m   7187\u001b[39m             \u001b[38;5;66;03m# len(by) == 1\u001b[39;00m\n\u001b[32m   7188\u001b[39m \n\u001b[32m-> \u001b[39m\u001b[32m7189\u001b[39m             k = self._get_label_or_level_values(by[\u001b[32m0\u001b[39m], axis=axis)\n\u001b[32m   7190\u001b[39m \n\u001b[32m   7191\u001b[39m             \u001b[38;5;66;03m# need to rewrap column in Series to apply key function\u001b[39;00m\n\u001b[32m   7192\u001b[39m             \u001b[38;5;28;01mif\u001b[39;00m key \u001b[38;5;28;01mis\u001b[39;00m \u001b[38;5;28;01mnot\u001b[39;00m \u001b[38;5;28;01mNone\u001b[39;00m:\n",
      "\u001b[32mc:\\Users\\dangw\\anaconda3\\envs\\ibm_1\\Lib\\site-packages\\pandas\\core\\generic.py\u001b[39m in \u001b[36m?\u001b[39m\u001b[34m(self, key, axis)\u001b[39m\n\u001b[32m   1907\u001b[39m             values = self.xs(key, axis=other_axes[\u001b[32m0\u001b[39m])._values\n\u001b[32m   1908\u001b[39m         \u001b[38;5;28;01melif\u001b[39;00m self._is_level_reference(key, axis=axis):\n\u001b[32m   1909\u001b[39m             values = self.axes[axis].get_level_values(key)._values\n\u001b[32m   1910\u001b[39m         \u001b[38;5;28;01melse\u001b[39;00m:\n\u001b[32m-> \u001b[39m\u001b[32m1911\u001b[39m             \u001b[38;5;28;01mraise\u001b[39;00m KeyError(key)\n\u001b[32m   1912\u001b[39m \n\u001b[32m   1913\u001b[39m         \u001b[38;5;66;03m# Check for duplicates\u001b[39;00m\n\u001b[32m   1914\u001b[39m         \u001b[38;5;28;01mif\u001b[39;00m values.ndim > \u001b[32m1\u001b[39m:\n",
      "\u001b[31mKeyError\u001b[39m: 'MedHouseVal'"
     ]
    }
   ],
   "source": [
    "# Enter your code here\n",
    "\n",
    "# Create a DataFrame to make sorting easy\n",
    "residuals_df = pd.DataFrame({\n",
    "    'Actual': 1e5*y_test,\n",
    "    'Residuals': residuals\n",
    "})\n",
    "\n",
    "# Sort the DataFrame by the actual target values\n",
    "residuals_df = residuals_df.sort_values(by='MedHouseVal', ascending=True)\n",
    "\n",
    "# Plot the residuals\n",
    "plt.scatter(residuals_df['Actual'], residuals_df['Residuals'] , marker='o', alpha=0.4,ec='k')\n",
    "plt.title('Median House Value Prediciton Residuals Ordered by Actual Median Prices')\n",
    "plt.xlabel('Actual Values (Sorted)')\n",
    "plt.ylabel('Residuals')\n",
    "plt.grid(True)\n",
    "plt.show()\n"
   ]
  },
  {
   "cell_type": "markdown",
   "id": "89bcdd5d-142e-4910-84b3-fe9e8bef6f28",
   "metadata": {},
   "source": [
    "<details><summary>Click here for the solution</summary>\n",
    "    \n",
    "```python\n",
    "    \n",
    "# Create a DataFrame to make sorting easy\n",
    "residuals_df = pd.DataFrame({\n",
    "    'Actual': 1e5*y_test,\n",
    "    'Residuals': residuals\n",
    "})\n",
    "\n",
    "# Sort the DataFrame by the actual target values\n",
    "residuals_df = residuals_df.sort_values(by='Actual')\n",
    "\n",
    "# Plot the residuals\n",
    "plt.scatter(residuals_df['Actual'], residuals_df['Residuals'], marker='o', alpha=0.4,ec='k')\n",
    "plt.title('Median House Value Prediciton Residuals Ordered by Actual Median Prices')\n",
    "plt.xlabel('Actual Values (Sorted)')\n",
    "plt.ylabel('Residuals')\n",
    "plt.grid(True)\n",
    "plt.show()\n",
    "```\n"
   ]
  },
  {
   "cell_type": "markdown",
   "id": "e7688127-e45b-4b1d-b653-cb524fcb0f1b",
   "metadata": {},
   "source": [
    "### Exercise 6. What trend can you infer from this residual plot?\n"
   ]
  },
  {
   "cell_type": "code",
   "execution_count": null,
   "id": "e4572dcb-3a57-4e3f-99e8-11472b25bf5b",
   "metadata": {},
   "outputs": [],
   "source": [
    "#### Please enter your descriptive answer here and change the cell type to \"Markdown\" for formatting.\n",
    "\n"
   ]
  },
  {
   "cell_type": "markdown",
   "id": "bab6d26f-4e3f-406c-aa85-b81f66358c8d",
   "metadata": {},
   "source": [
    "<details><summary>Click here for the solution</summary>\n",
    "Although we saw a small average residual of only -\\$1400, you can see from this plot that the average error as a function of median house price is actually increasing from negative to positive values.\n",
    "In other words, lower median prices tend to be overpredicted while higher median prices tend to be underpredicted.    \n",
    "</details>\n"
   ]
  },
  {
   "cell_type": "markdown",
   "id": "e3924988-2059-410a-bab3-ae6220e9e5fc",
   "metadata": {},
   "source": [
    "### Exercise 7. Display the feature importances as a bar chart.\n",
    "Do you think these feature weights have practial significance? Are any of the features possibly sharing importance with other correlated features?\n"
   ]
  },
  {
   "cell_type": "code",
   "execution_count": null,
   "id": "d8e5abf8-332f-4497-bb39-accfaf58c6d1",
   "metadata": {},
   "outputs": [],
   "source": [
    "# Enter your code here \n",
    "\n",
    "# Feature importances\n",
    "importances = rf_regressor. ...\n",
    "indices = np.argsort(importances)[::-1]\n",
    "features = data. ...\n",
    "\n",
    "# Plot feature importances\n",
    "plt.bar(range(X.shape[1]), importances[indices],  align=\"center\")\n",
    "plt.xticks(range(X.shape[1]), [features[i] for i in indices], rotation=45)\n",
    "plt.xlabel(\"Feature\")\n",
    "plt.ylabel(\"Importance\")\n",
    "plt.title(\"Feature Importances in Random Forest Regression\")\n",
    "plt.show()"
   ]
  },
  {
   "cell_type": "code",
   "execution_count": null,
   "id": "7cdebcd6-739c-454d-8c14-d50e27f88370",
   "metadata": {},
   "outputs": [],
   "source": [
    "#### Please enter your descriptive answer here and change the cell type to \"Markdown\" for formatting.\n"
   ]
  },
  {
   "cell_type": "markdown",
   "id": "55028572-246a-4bfb-9e2b-3fb387e94190",
   "metadata": {},
   "source": [
    "<details><summary>Click here for the solution, part 1</summary>\n",
    "    \n",
    "```python\n",
    "   \n",
    "# Feature importances\n",
    "importances = rf_regressor.feature_importances_\n",
    "indices = np.argsort(importances)[::-1]\n",
    "features = data.feature_names\n",
    "\n",
    "# Plot feature importances\n",
    "plt.bar(range(X.shape[1]), importances[indices],  align=\"center\")\n",
    "plt.xticks(range(X.shape[1]), [features[i] for i in indices], rotation=45)\n",
    "plt.xlabel(\"Feature\")\n",
    "plt.ylabel(\"Importance\")\n",
    "plt.title(\"Feature Importances in Random Forest Regression\")\n",
    "plt.show()\n",
    "```\n"
   ]
  },
  {
   "cell_type": "markdown",
   "id": "196d5cc9-c660-4b20-99c9-3e31f1f9600d",
   "metadata": {},
   "source": [
    "<details><summary>Click here for the solution, part 2</summary>\n",
    "It makes sense that median incomes and house prices would be correlated, so it's not surprising that median income is the most important feature.\n",
    "\n",
    "I would think that location must be a significant factor.\n",
    "\n",
    "Since location is implied by two separate variables, latitude and longitude that share equal importances, we might speculate that location is really the second most important feature.\n",
    "This is because replacing latitude and longitude with a categorical location at an appropriate level of granularity (suburb, city, etc.) would likely have a combined lat/lng importance, which might outweigh average occupancy.\n",
    "\n",
    "Might average occupancy and average number of bedrooms be correlated?\n",
    "\n",
    "A proper analysis of the feature set would include a correlation matrix.\n",
    "</details>\n"
   ]
  },
  {
   "cell_type": "markdown",
   "id": "799869a1-215d-4f27-b4bd-7c5b8fd16ef4",
   "metadata": {},
   "source": [
    "### Exercise 8. Some final thoughts to consider\n",
    "\n",
    "- Will the skewness affect the performance of Random Forest regression?\n",
    "- Does the clipping of median house prices above \\$500,000 bias the predictions?\n",
    "- Also, do we need to standardize the data?\n"
   ]
  },
  {
   "cell_type": "code",
   "execution_count": null,
   "id": "fb9bdf2b-aded-4e56-ae21-3d405633f073",
   "metadata": {},
   "outputs": [],
   "source": [
    "#### Please enter your descriptive answer here and change the cell type to \"Markdown\" for formatting.\n",
    "\n"
   ]
  },
  {
   "cell_type": "markdown",
   "id": "3383ade7-3e3b-44ad-a63b-c837839bc32f",
   "metadata": {},
   "source": [
    "<details><summary>Click here for the solution</summary>\n",
    "Compared to linear regression, random forest regression is quite robust against outliers and skewed distributions.\n",
    "This is because random forest regression doesn't make any assumptions about the data distribution, where linear regression performs best with normally distributed data.\n",
    "\n",
    "Standardizing the data isn't necessary like it is for distance-based algortihms like KNN or SVMs.\n",
    "\n",
    "Regarding the clipped vlaues, there is no variablilty in those values. Removing them in preprocessing might help the model to better explain the actual variance in the data. \n",
    "\n",
    "The clipped values can alsos bias the predictions.\n",
    "Also these clipped values can mislead evaluation metrics. As you've learned from this lab, it's crucially important for you to visualize your results.\n",
    "</details>\n"
   ]
  },
  {
   "cell_type": "markdown",
   "id": "7c24d8a1-0cd6-40ac-b5b2-f5e558fd4a3e",
   "metadata": {},
   "source": [
    "## Summary\n",
    "Congratulations! You're ready to move on to your next lesson! \n",
    "In this lab, you learned how to implement and assess the performance of random forest regression models using real-world data. You explored evaluation metrics and visualizations to understand the model's effectiveness and examined the feature importances in predicting outcomes. Using the California Housing dataset, you built a random forest regression model to predict median house prices based on various attributes, then evaluated and interpreted the results to understand the factors influencing the predictions.\n",
    "\n",
    "## Author\n",
    "\n",
    "<a href=\"https://www.linkedin.com/in/jpgrossman/\" target=\"_blank\">Jeff Grossman</a>\n",
    "\n",
    "\n",
    "### Other Contributors\n",
    "\n",
    "<a href=\"https://www.linkedin.com/in/abhishek-gagneja-23051987/\" target=\"_blank\">Abhishek Gagneja</a>\n",
    "\n",
    "<!-- ## Changelog\n",
    "\n",
    "| Date | Version | Changed by | Change Description |\n",
    "|:------------|:------|:------------------|:---------------------------------------|\n",
    "| 2024-11-12 | 1.0  | Jeff Grossman    | Create content |\n",
    "\n",
    " -->\n",
    "\n",
    "## <h3 align=\"center\"> © IBM Corporation. All rights reserved. <h3/>\n"
   ]
  }
 ],
 "metadata": {
  "kernelspec": {
   "display_name": "ibm_1",
   "language": "python",
   "name": "python3"
  },
  "language_info": {
   "codemirror_mode": {
    "name": "ipython",
    "version": 3
   },
   "file_extension": ".py",
   "mimetype": "text/x-python",
   "name": "python",
   "nbconvert_exporter": "python",
   "pygments_lexer": "ipython3",
   "version": "3.13.5"
  },
  "prev_pub_hash": "bdc95fd5316dd4a1810fba80c60419533aa01a1c10b788a032e41322f92bc37a"
 },
 "nbformat": 4,
 "nbformat_minor": 4
}
