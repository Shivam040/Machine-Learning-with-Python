{
 "cells": [
  {
   "cell_type": "markdown",
   "id": "32641983",
   "metadata": {},
   "source": [
    "## Evaluating Classification Models\n",
    "\n",
    "- Supervised learning evaluation\n",
    "- train/test split technique\n",
    "- Classification metrics (accuracy, precision, recall, F1-score, confusion matrix)\n",
    "- Overfitting vs Underfitting"
   ]
  },
  {
   "cell_type": "markdown",
   "id": "62a4dc44",
   "metadata": {},
   "source": [
    "## Regression Metrics and Evaluation techniques\n",
    "- Evaluating Regression models\n",
    "- Regression Metrics\n",
    "- mae, mse, rmse, r2(amount of variance)\n",
    "- explained, unexplained, total variance\n",
    "- Better transformation of model for better evaluation metrices"
   ]
  },
  {
   "cell_type": "markdown",
   "id": "53f3c419",
   "metadata": {},
   "source": [
    "# Evaluating Unsupervised Models: Heuristics and Techniques\n",
    "- clustering and dimentionality reduction\n",
    "- Internal, external evaluation metrics, Generalizability or stability evaluation, DR, cluster-assisted, Domain expertise\n",
    "- Internal clustering evaluation(Silhouette score, Davies Bouldin Index, Inertia)\n",
    "- External clustering evaluation (Calinski-Harabasz Index, Dunn Index, Adjusted Rand Index, Normalized Mutual Information, Fowlke-Mallows Index)\n",
    "- Dimentionality Reduction evaluation (Explained Variance Ratio, Reconstruction Error, Neighborhood Preservation)"
   ]
  },
  {
   "cell_type": "markdown",
   "id": "b338cb07",
   "metadata": {},
   "source": [
    "# Cross-Validation and Advanced Model Validation Techniques\n",
    "- Model Validation\n",
    "- Data Snooping \n",
    "- Cross Validation Algorithm: K-fold cross Validation\n",
    "- Handling imbalanced data"
   ]
  },
  {
   "cell_type": "markdown",
   "id": "3784fb6b",
   "metadata": {},
   "source": [
    "# Regularization in Linear Regression\n",
    "- Regularization\n",
    "- Ridge and lasso regression \n",
    "- Non-sparse/ sparse features , high/low Signal-to-Noise Ratio"
   ]
  },
  {
   "cell_type": "markdown",
   "id": "a6aedfea",
   "metadata": {},
   "source": [
    "# Data Leakage and Other Pitfalls\n",
    "- Data Leakage\n",
    "- Handling cross-validation data leakage\n",
    "- For time-series Split data sequential set and training preceeds the test set\n",
    "- Feature importance interpretation pitfalls\n",
    "- Correlation vs Causation"
   ]
  },
  {
   "cell_type": "markdown",
   "id": "a1810c37",
   "metadata": {},
   "source": []
  }
 ],
 "metadata": {
  "kernelspec": {
   "display_name": "ibm_1",
   "language": "python",
   "name": "python3"
  },
  "language_info": {
   "name": "python",
   "version": "3.13.5"
  }
 },
 "nbformat": 4,
 "nbformat_minor": 5
}
