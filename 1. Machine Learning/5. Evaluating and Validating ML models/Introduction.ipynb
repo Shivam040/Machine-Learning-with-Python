{
 "cells": [
  {
   "cell_type": "markdown",
   "id": "32641983",
   "metadata": {},
   "source": [
    "## Evaluating Classification Models\n",
    "\n",
    "- Supervised learning evaluation\n",
    "- train/test split technique\n",
    "- Classification metrics (accuracy, precision, recall, F1-score, confusion matrix)\n",
    "- Overfitting vs Underfitting"
   ]
  },
  {
   "cell_type": "markdown",
   "id": "62a4dc44",
   "metadata": {},
   "source": [
    "## Regression Metrics and Evaluation techniques\n",
    "- Evaluating Regression models\n",
    "- Regression Metrics\n",
    "- mae, mse, rmse, r2(amount of variance)\n",
    "- explained, unexplained, total variance\n",
    "- Better transformation of model for better evaluation metrices"
   ]
  },
  {
   "cell_type": "markdown",
   "id": "53f3c419",
   "metadata": {},
   "source": [
    "# Evaluating Unsupervised Models: Heuristics and Techniques\n",
    "- clustering and dimentionality reduction\n",
    "- Internal, external evaluation metrics, Generalizability or stability evaluation, DR, cluster-assisted, Domain expertise\n",
    "- Internal clustering evaluation(Silhouette score, Davies Bouldin Index, Inertia)\n",
    "- External clustering evaluation (Calinski-Harabasz Index, Dunn Index, Adjusted Rand Index, Normalized Mutual Information, Fowlke-Mallows Index)\n",
    "- Dimentionality Reduction evaluation (Explained Variance Ratio, Reconstruction Error, Neighborhood Preservation)"
   ]
  },
  {
   "cell_type": "markdown",
   "id": "b338cb07",
   "metadata": {},
   "source": []
  }
 ],
 "metadata": {
  "kernelspec": {
   "display_name": "ibm_1",
   "language": "python",
   "name": "python3"
  },
  "language_info": {
   "name": "python",
   "version": "3.13.5"
  }
 },
 "nbformat": 4,
 "nbformat_minor": 5
}
